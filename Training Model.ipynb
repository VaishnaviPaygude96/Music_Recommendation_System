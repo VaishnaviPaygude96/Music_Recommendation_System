{
 "cells": [
  {
   "cell_type": "code",
   "execution_count": 42,
   "id": "4b560e04-53f8-4575-9b09-879044405f62",
   "metadata": {},
   "outputs": [],
   "source": [
    "import pandas as pd"
   ]
  },
  {
   "cell_type": "code",
   "execution_count": 43,
   "id": "3a65b89b-7f55-420c-ab3b-39645fd9a529",
   "metadata": {},
   "outputs": [],
   "source": [
    "df = pd.read_csv(\"spotify_millsongdata.csv\")"
   ]
  },
  {
   "cell_type": "code",
   "execution_count": 44,
   "id": "756fdbb6-fcce-49c3-b5c2-e241ceb260bf",
   "metadata": {},
   "outputs": [
    {
     "data": {
      "text/html": [
       "<div>\n",
       "<style scoped>\n",
       "    .dataframe tbody tr th:only-of-type {\n",
       "        vertical-align: middle;\n",
       "    }\n",
       "\n",
       "    .dataframe tbody tr th {\n",
       "        vertical-align: top;\n",
       "    }\n",
       "\n",
       "    .dataframe thead th {\n",
       "        text-align: right;\n",
       "    }\n",
       "</style>\n",
       "<table border=\"1\" class=\"dataframe\">\n",
       "  <thead>\n",
       "    <tr style=\"text-align: right;\">\n",
       "      <th></th>\n",
       "      <th>artist</th>\n",
       "      <th>song</th>\n",
       "      <th>link</th>\n",
       "      <th>text</th>\n",
       "    </tr>\n",
       "  </thead>\n",
       "  <tbody>\n",
       "    <tr>\n",
       "      <th>0</th>\n",
       "      <td>ABBA</td>\n",
       "      <td>Ahe's My Kind Of Girl</td>\n",
       "      <td>/a/abba/ahes+my+kind+of+girl_20598417.html</td>\n",
       "      <td>Look at her face, it's a wonderful face  \\r\\nA...</td>\n",
       "    </tr>\n",
       "    <tr>\n",
       "      <th>1</th>\n",
       "      <td>ABBA</td>\n",
       "      <td>Andante, Andante</td>\n",
       "      <td>/a/abba/andante+andante_20002708.html</td>\n",
       "      <td>Take it easy with me, please  \\r\\nTouch me gen...</td>\n",
       "    </tr>\n",
       "    <tr>\n",
       "      <th>2</th>\n",
       "      <td>ABBA</td>\n",
       "      <td>As Good As New</td>\n",
       "      <td>/a/abba/as+good+as+new_20003033.html</td>\n",
       "      <td>I'll never know why I had to go  \\r\\nWhy I had...</td>\n",
       "    </tr>\n",
       "    <tr>\n",
       "      <th>3</th>\n",
       "      <td>ABBA</td>\n",
       "      <td>Bang</td>\n",
       "      <td>/a/abba/bang_20598415.html</td>\n",
       "      <td>Making somebody happy is a question of give an...</td>\n",
       "    </tr>\n",
       "    <tr>\n",
       "      <th>4</th>\n",
       "      <td>ABBA</td>\n",
       "      <td>Bang-A-Boomerang</td>\n",
       "      <td>/a/abba/bang+a+boomerang_20002668.html</td>\n",
       "      <td>Making somebody happy is a question of give an...</td>\n",
       "    </tr>\n",
       "  </tbody>\n",
       "</table>\n",
       "</div>"
      ],
      "text/plain": [
       "  artist                   song                                        link  \\\n",
       "0   ABBA  Ahe's My Kind Of Girl  /a/abba/ahes+my+kind+of+girl_20598417.html   \n",
       "1   ABBA       Andante, Andante       /a/abba/andante+andante_20002708.html   \n",
       "2   ABBA         As Good As New        /a/abba/as+good+as+new_20003033.html   \n",
       "3   ABBA                   Bang                  /a/abba/bang_20598415.html   \n",
       "4   ABBA       Bang-A-Boomerang      /a/abba/bang+a+boomerang_20002668.html   \n",
       "\n",
       "                                                text  \n",
       "0  Look at her face, it's a wonderful face  \\r\\nA...  \n",
       "1  Take it easy with me, please  \\r\\nTouch me gen...  \n",
       "2  I'll never know why I had to go  \\r\\nWhy I had...  \n",
       "3  Making somebody happy is a question of give an...  \n",
       "4  Making somebody happy is a question of give an...  "
      ]
     },
     "execution_count": 44,
     "metadata": {},
     "output_type": "execute_result"
    }
   ],
   "source": [
    "df.head(5)"
   ]
  },
  {
   "cell_type": "code",
   "execution_count": 45,
   "id": "1375f64c-36ee-482a-80dd-4b56c65a9dd0",
   "metadata": {},
   "outputs": [
    {
     "data": {
      "text/plain": [
       "(57650, 4)"
      ]
     },
     "execution_count": 45,
     "metadata": {},
     "output_type": "execute_result"
    }
   ],
   "source": [
    "df.shape"
   ]
  },
  {
   "cell_type": "code",
   "execution_count": 46,
   "id": "a7e0d3a6-0dd4-4e1f-8de5-211eaab0e70a",
   "metadata": {},
   "outputs": [
    {
     "data": {
      "text/plain": [
       "artist    0\n",
       "song      0\n",
       "link      0\n",
       "text      0\n",
       "dtype: int64"
      ]
     },
     "execution_count": 46,
     "metadata": {},
     "output_type": "execute_result"
    }
   ],
   "source": [
    "df.isnull().sum()"
   ]
  },
  {
   "cell_type": "code",
   "execution_count": 49,
   "id": "e4db13db-0e87-424d-a1a3-a0ed8c318dee",
   "metadata": {},
   "outputs": [],
   "source": [
    "df =df.sample(5000).drop('link', axis=1).reset_index(drop=True)"
   ]
  },
  {
   "cell_type": "code",
   "execution_count": 50,
   "id": "4260989d-10d9-4084-abb4-1a6db9ec84d1",
   "metadata": {},
   "outputs": [
    {
     "data": {
      "text/html": [
       "<div>\n",
       "<style scoped>\n",
       "    .dataframe tbody tr th:only-of-type {\n",
       "        vertical-align: middle;\n",
       "    }\n",
       "\n",
       "    .dataframe tbody tr th {\n",
       "        vertical-align: top;\n",
       "    }\n",
       "\n",
       "    .dataframe thead th {\n",
       "        text-align: right;\n",
       "    }\n",
       "</style>\n",
       "<table border=\"1\" class=\"dataframe\">\n",
       "  <thead>\n",
       "    <tr style=\"text-align: right;\">\n",
       "      <th></th>\n",
       "      <th>artist</th>\n",
       "      <th>song</th>\n",
       "      <th>text</th>\n",
       "    </tr>\n",
       "  </thead>\n",
       "  <tbody>\n",
       "    <tr>\n",
       "      <th>0</th>\n",
       "      <td>Adele</td>\n",
       "      <td>Send My Love (To Your New Lover)</td>\n",
       "      <td>[Intro]  \\r\\nJust the guitar?  \\r\\nOkay, cool ...</td>\n",
       "    </tr>\n",
       "    <tr>\n",
       "      <th>1</th>\n",
       "      <td>Everclear</td>\n",
       "      <td>A Beautiful Life</td>\n",
       "      <td>You seem to make the same mistakes everyday  \\...</td>\n",
       "    </tr>\n",
       "    <tr>\n",
       "      <th>2</th>\n",
       "      <td>Who</td>\n",
       "      <td>Goin' Mobile</td>\n",
       "      <td>I'm goin' home  \\r\\nAnd when I want to go home...</td>\n",
       "    </tr>\n",
       "    <tr>\n",
       "      <th>3</th>\n",
       "      <td>Metallica</td>\n",
       "      <td>No Leaf Clover</td>\n",
       "      <td>And it feels right this time  \\r\\nOn this cras...</td>\n",
       "    </tr>\n",
       "    <tr>\n",
       "      <th>4</th>\n",
       "      <td>Keith Urban</td>\n",
       "      <td>Where The Blacktop Ends</td>\n",
       "      <td>Gonna kick off my shoes  \\r\\nAnd run in bare f...</td>\n",
       "    </tr>\n",
       "  </tbody>\n",
       "</table>\n",
       "</div>"
      ],
      "text/plain": [
       "        artist                              song  \\\n",
       "0        Adele  Send My Love (To Your New Lover)   \n",
       "1    Everclear                  A Beautiful Life   \n",
       "2          Who                      Goin' Mobile   \n",
       "3    Metallica                    No Leaf Clover   \n",
       "4  Keith Urban           Where The Blacktop Ends   \n",
       "\n",
       "                                                text  \n",
       "0  [Intro]  \\r\\nJust the guitar?  \\r\\nOkay, cool ...  \n",
       "1  You seem to make the same mistakes everyday  \\...  \n",
       "2  I'm goin' home  \\r\\nAnd when I want to go home...  \n",
       "3  And it feels right this time  \\r\\nOn this cras...  \n",
       "4  Gonna kick off my shoes  \\r\\nAnd run in bare f...  "
      ]
     },
     "execution_count": 50,
     "metadata": {},
     "output_type": "execute_result"
    }
   ],
   "source": [
    "df.head(5)"
   ]
  },
  {
   "cell_type": "code",
   "execution_count": 51,
   "id": "34ea4667-3674-4e6a-8591-6c4075466300",
   "metadata": {},
   "outputs": [
    {
     "data": {
      "text/plain": [
       "\"[Intro]  \\r\\nJust the guitar?  \\r\\nOkay, cool  \\r\\n  \\r\\n[Verse 1]  \\r\\nThis was all you, none of it me  \\r\\nYou put your hands on on my body and told me  \\r\\nTold me you were ready  \\r\\nFor the big one, for the big jump  \\r\\nI'd be your last love everlasting, you and me  \\r\\nMmm, that was what you told me  \\r\\n  \\r\\n[Pre-Chorus]  \\r\\nI'm giving you up  \\r\\nI've forgiven it all  \\r\\nYou set me free, oh  \\r\\n  \\r\\n[Chorus]  \\r\\nSend my love to your new lover  \\r\\nTreat her better  \\r\\nWe've gotta let go of all of our ghosts  \\r\\nWe both know we ain't kids no more  \\r\\nSend my love to your new lover  \\r\\nTreat her better  \\r\\nWe've gotta let go of all of our ghosts  \\r\\nWe both know we ain't kids no more  \\r\\n  \\r\\n[Verse 2]  \\r\\nI was too strong, you were trembling  \\r\\nYou couldn't handle the hot heat rising (rising)  \\r\\nMmm, baby I'm so rising  \\r\\nI was running, you were walking  \\r\\nYou couldn't keep up, you were falling down (down)  \\r\\nMmm, there's only one way down  \\r\\n  \\r\\n[Pre-Chorus]  \\r\\nI'm giving you up  \\r\\nI've forgiven it all  \\r\\nYou set me free, oh  \\r\\n  \\r\\n[Chorus]  \\r\\nSend my love to your new lover  \\r\\nTreat her better  \\r\\nWe've gotta let go of all of our ghosts  \\r\\nWe both know we ain't kids no more  \\r\\nSend my love to your new lover  \\r\\nTreat her better  \\r\\nWe've gotta let go of all of our ghosts  \\r\\nWe both know we ain't kids no more  \\r\\n  \\r\\n[Bridge]  \\r\\nIf you're ready, if you're ready  \\r\\nIf you're ready, I am ready  \\r\\nIf you're ready, if you're ready  \\r\\nWe both know we ain't kids no more  \\r\\nNo, we ain't kids no more  \\r\\n  \\r\\n[Pre-Chorus]  \\r\\nI'm giving you up  \\r\\nI've forgiven it all  \\r\\nYou set me free, oh  \\r\\n  \\r\\n[Chorus]  \\r\\nSend my love to your new lover  \\r\\nTreat her better  \\r\\nWe've gotta let go of all of our ghosts  \\r\\nWe both know we ain't kids no more  \\r\\nSend my love to your new lover  \\r\\nTreat her better  \\r\\nWe've gotta let go of all of our ghosts  \\r\\nWe both know we ain't kids no more  \\r\\n  \\r\\n[Outro]  \\r\\nIf you're ready, if you're ready (Send my love to your new lover)  \\r\\nIf you're ready, are you ready? (Treat her better)  \\r\\nWe've gotta let go of all of our ghosts  \\r\\nWe both know we ain't kids no more  \\r\\nIf you're ready, if you're ready (Send my love to your new lover)  \\r\\nIf you're ready, are you ready? (Treat her better)  \\r\\nWe've gotta let go of all of our ghosts  \\r\\nWe both know we ain't kids no more\\r\\n\\r\\n\""
      ]
     },
     "execution_count": 51,
     "metadata": {},
     "output_type": "execute_result"
    }
   ],
   "source": [
    "df['text'][0]"
   ]
  },
  {
   "cell_type": "code",
   "execution_count": 24,
   "id": "52da56ff-9d68-49f7-8b5e-fc42883cfa82",
   "metadata": {},
   "outputs": [],
   "source": []
  },
  {
   "cell_type": "code",
   "execution_count": 52,
   "id": "f627dd12-e0fb-4e3b-9d37-bbf025b82d77",
   "metadata": {},
   "outputs": [
    {
     "data": {
      "text/html": [
       "<div>\n",
       "<style scoped>\n",
       "    .dataframe tbody tr th:only-of-type {\n",
       "        vertical-align: middle;\n",
       "    }\n",
       "\n",
       "    .dataframe tbody tr th {\n",
       "        vertical-align: top;\n",
       "    }\n",
       "\n",
       "    .dataframe thead th {\n",
       "        text-align: right;\n",
       "    }\n",
       "</style>\n",
       "<table border=\"1\" class=\"dataframe\">\n",
       "  <thead>\n",
       "    <tr style=\"text-align: right;\">\n",
       "      <th></th>\n",
       "      <th>artist</th>\n",
       "      <th>song</th>\n",
       "      <th>text</th>\n",
       "    </tr>\n",
       "  </thead>\n",
       "  <tbody>\n",
       "    <tr>\n",
       "      <th>4995</th>\n",
       "      <td>America</td>\n",
       "      <td>Garden Of Peace</td>\n",
       "      <td>I look inside at the scarlet room  \\r\\nPlaces ...</td>\n",
       "    </tr>\n",
       "    <tr>\n",
       "      <th>4996</th>\n",
       "      <td>W.A.S.P.</td>\n",
       "      <td>Chainsaw Charlie (Murders In The New Morgue)</td>\n",
       "      <td>O.K. boy now here's your deal  \\r\\nWill you ga...</td>\n",
       "    </tr>\n",
       "    <tr>\n",
       "      <th>4997</th>\n",
       "      <td>Rihanna</td>\n",
       "      <td>Happy</td>\n",
       "      <td>Just as long it makes you happy  \\r\\nIf it mak...</td>\n",
       "    </tr>\n",
       "    <tr>\n",
       "      <th>4998</th>\n",
       "      <td>Electric Light Orchestra</td>\n",
       "      <td>Is It Alright</td>\n",
       "      <td>Dear Jo:  \\r\\nI don't know where to begin so I...</td>\n",
       "    </tr>\n",
       "    <tr>\n",
       "      <th>4999</th>\n",
       "      <td>Vanessa Williams</td>\n",
       "      <td>Everlasting Love</td>\n",
       "      <td>When I feel you dreaming  \\r\\nI think of sunse...</td>\n",
       "    </tr>\n",
       "  </tbody>\n",
       "</table>\n",
       "</div>"
      ],
      "text/plain": [
       "                        artist                                          song  \\\n",
       "4995                   America                               Garden Of Peace   \n",
       "4996                  W.A.S.P.  Chainsaw Charlie (Murders In The New Morgue)   \n",
       "4997                   Rihanna                                         Happy   \n",
       "4998  Electric Light Orchestra                                 Is It Alright   \n",
       "4999          Vanessa Williams                              Everlasting Love   \n",
       "\n",
       "                                                   text  \n",
       "4995  I look inside at the scarlet room  \\r\\nPlaces ...  \n",
       "4996  O.K. boy now here's your deal  \\r\\nWill you ga...  \n",
       "4997  Just as long it makes you happy  \\r\\nIf it mak...  \n",
       "4998  Dear Jo:  \\r\\nI don't know where to begin so I...  \n",
       "4999  When I feel you dreaming  \\r\\nI think of sunse...  "
      ]
     },
     "execution_count": 52,
     "metadata": {},
     "output_type": "execute_result"
    }
   ],
   "source": [
    "df.tail(5)"
   ]
  },
  {
   "cell_type": "markdown",
   "id": "ded5ac11-ff42-40be-97c0-15693d874f51",
   "metadata": {},
   "source": [
    "# text cleaning"
   ]
  },
  {
   "cell_type": "code",
   "execution_count": 53,
   "id": "343b2553-7ed8-498b-91d5-3a837bd92eb4",
   "metadata": {},
   "outputs": [],
   "source": [
    "df['text'] = df['text'].str.lower().replace(r'^\\w\\s', ' ').replace(r'\\n', ' ', regex = True)"
   ]
  },
  {
   "cell_type": "code",
   "execution_count": 54,
   "id": "efb223d5-846f-49c6-977c-6933550901fc",
   "metadata": {},
   "outputs": [
    {
     "data": {
      "text/html": [
       "<div>\n",
       "<style scoped>\n",
       "    .dataframe tbody tr th:only-of-type {\n",
       "        vertical-align: middle;\n",
       "    }\n",
       "\n",
       "    .dataframe tbody tr th {\n",
       "        vertical-align: top;\n",
       "    }\n",
       "\n",
       "    .dataframe thead th {\n",
       "        text-align: right;\n",
       "    }\n",
       "</style>\n",
       "<table border=\"1\" class=\"dataframe\">\n",
       "  <thead>\n",
       "    <tr style=\"text-align: right;\">\n",
       "      <th></th>\n",
       "      <th>artist</th>\n",
       "      <th>song</th>\n",
       "      <th>text</th>\n",
       "    </tr>\n",
       "  </thead>\n",
       "  <tbody>\n",
       "    <tr>\n",
       "      <th>4995</th>\n",
       "      <td>America</td>\n",
       "      <td>Garden Of Peace</td>\n",
       "      <td>i look inside at the scarlet room  \\r places t...</td>\n",
       "    </tr>\n",
       "    <tr>\n",
       "      <th>4996</th>\n",
       "      <td>W.A.S.P.</td>\n",
       "      <td>Chainsaw Charlie (Murders In The New Morgue)</td>\n",
       "      <td>o.k. boy now here's your deal  \\r will you gam...</td>\n",
       "    </tr>\n",
       "    <tr>\n",
       "      <th>4997</th>\n",
       "      <td>Rihanna</td>\n",
       "      <td>Happy</td>\n",
       "      <td>just as long it makes you happy  \\r if it make...</td>\n",
       "    </tr>\n",
       "    <tr>\n",
       "      <th>4998</th>\n",
       "      <td>Electric Light Orchestra</td>\n",
       "      <td>Is It Alright</td>\n",
       "      <td>dear jo:  \\r i don't know where to begin so i'...</td>\n",
       "    </tr>\n",
       "    <tr>\n",
       "      <th>4999</th>\n",
       "      <td>Vanessa Williams</td>\n",
       "      <td>Everlasting Love</td>\n",
       "      <td>when i feel you dreaming  \\r i think of sunset...</td>\n",
       "    </tr>\n",
       "  </tbody>\n",
       "</table>\n",
       "</div>"
      ],
      "text/plain": [
       "                        artist                                          song  \\\n",
       "4995                   America                               Garden Of Peace   \n",
       "4996                  W.A.S.P.  Chainsaw Charlie (Murders In The New Morgue)   \n",
       "4997                   Rihanna                                         Happy   \n",
       "4998  Electric Light Orchestra                                 Is It Alright   \n",
       "4999          Vanessa Williams                              Everlasting Love   \n",
       "\n",
       "                                                   text  \n",
       "4995  i look inside at the scarlet room  \\r places t...  \n",
       "4996  o.k. boy now here's your deal  \\r will you gam...  \n",
       "4997  just as long it makes you happy  \\r if it make...  \n",
       "4998  dear jo:  \\r i don't know where to begin so i'...  \n",
       "4999  when i feel you dreaming  \\r i think of sunset...  "
      ]
     },
     "execution_count": 54,
     "metadata": {},
     "output_type": "execute_result"
    }
   ],
   "source": [
    "df.tail(5)"
   ]
  },
  {
   "cell_type": "code",
   "execution_count": 55,
   "id": "53ff1bcc-9923-485f-8b81-2a6c8868b32d",
   "metadata": {},
   "outputs": [],
   "source": [
    "import nltk\n",
    "from nltk.stem.porter import PorterStemmer"
   ]
  },
  {
   "cell_type": "code",
   "execution_count": 56,
   "id": "acfb32be-f8e3-45cf-9942-4a88554ab771",
   "metadata": {},
   "outputs": [],
   "source": [
    "stemmer=PorterStemmer()"
   ]
  },
  {
   "cell_type": "code",
   "execution_count": 57,
   "id": "0d9dc6e3-9027-451a-a214-085cfda643dc",
   "metadata": {},
   "outputs": [],
   "source": [
    "def tokenization(txt):\n",
    "    tokens = nltk.word_tokenize(txt)\n",
    "    stemming = [stemmer.stem(w) for w in tokens]\n",
    "    return \" \".join(stemming)"
   ]
  },
  {
   "cell_type": "code",
   "execution_count": 58,
   "id": "64542507-9b9c-4d58-9f42-bfc9ce436f50",
   "metadata": {},
   "outputs": [],
   "source": [
    "df['text'] = df['text'].apply(lambda x: tokenization(x))"
   ]
  },
  {
   "cell_type": "code",
   "execution_count": 59,
   "id": "32dd62ff-3e61-4883-a479-aace42cc831b",
   "metadata": {},
   "outputs": [],
   "source": [
    "from sklearn.feature_extraction.text import TfidfVectorizer\n",
    "from sklearn.metrics.pairwise import cosine_similarity"
   ]
  },
  {
   "cell_type": "code",
   "execution_count": 60,
   "id": "22a993d0-122a-421b-9f35-8a67c80cf26d",
   "metadata": {},
   "outputs": [],
   "source": [
    "tfidvector = TfidfVectorizer(analyzer='word',stop_words='english')\n",
    "matrix = tfidvector.fit_transform(df['text'])\n",
    "similarity = cosine_similarity(matrix)"
   ]
  },
  {
   "cell_type": "code",
   "execution_count": 61,
   "id": "9762372b-ab30-4a56-8c7d-6698018e3454",
   "metadata": {},
   "outputs": [
    {
     "data": {
      "text/plain": [
       "<5000x17224 sparse matrix of type '<class 'numpy.float64'>'\n",
       "\twith 274763 stored elements in Compressed Sparse Row format>"
      ]
     },
     "execution_count": 61,
     "metadata": {},
     "output_type": "execute_result"
    }
   ],
   "source": [
    "matrix"
   ]
  },
  {
   "cell_type": "code",
   "execution_count": 62,
   "id": "54b7a9b2-243c-434a-b026-8466174558a3",
   "metadata": {},
   "outputs": [
    {
     "data": {
      "text/plain": [
       "array([1.        , 0.01203163, 0.00269952, ..., 0.01290174, 0.04753666,\n",
       "       0.07146171])"
      ]
     },
     "execution_count": 62,
     "metadata": {},
     "output_type": "execute_result"
    }
   ],
   "source": [
    "similarity[0]"
   ]
  },
  {
   "cell_type": "code",
   "execution_count": 63,
   "id": "fb9b3e0e-f886-4d42-b444-d159dd3a2748",
   "metadata": {},
   "outputs": [
    {
     "data": {
      "text/plain": [
       "3758"
      ]
     },
     "execution_count": 63,
     "metadata": {},
     "output_type": "execute_result"
    }
   ],
   "source": [
    "\n",
    "df[df['song'] == 'Harvest'].index[0]"
   ]
  },
  {
   "cell_type": "code",
   "execution_count": 64,
   "id": "d337d7ae-2fd1-4e98-a4d7-d0b33bc95465",
   "metadata": {},
   "outputs": [],
   "source": [
    "def recommendation(song_df):\n",
    "    idx = df[df['song'] == song_df].index[0]\n",
    "    distances = sorted(list(enumerate(similarity[idx])),reverse=True,key=lambda x:x[1])\n",
    "    \n",
    "    songs = []\n",
    "    for m_id in distances[1:21]:\n",
    "        songs.append(df.iloc[m_id[0]].song)\n",
    "        \n",
    "    return songs"
   ]
  },
  {
   "cell_type": "code",
   "execution_count": 67,
   "id": "a3557496-16fd-4153-a1a5-3bf6e49e3b25",
   "metadata": {},
   "outputs": [
    {
     "data": {
      "text/plain": [
       "['Alright',\n",
       " 'Refuge',\n",
       " 'Any Way You Want It',\n",
       " 'Wreck Of The Hesperus',\n",
       " \"I'll Be Alright\",\n",
       " 'Above The Clouds',\n",
       " \"I'm All Right\",\n",
       " 'I Got A Woman',\n",
       " 'Get Back',\n",
       " 'Come With Me',\n",
       " 'Let It Die',\n",
       " \"She Don't Want Nobody Near\",\n",
       " 'Going To A Go-Go',\n",
       " \"Baby It's Allright\",\n",
       " 'Cailin',\n",
       " 'Here Comes The Night',\n",
       " 'Lady Stardust',\n",
       " 'Three Little Birds',\n",
       " 'I Wanna Be With You',\n",
       " 'Hold On']"
      ]
     },
     "execution_count": 67,
     "metadata": {},
     "output_type": "execute_result"
    }
   ],
   "source": [
    "recommendation('Is It Alright')"
   ]
  },
  {
   "cell_type": "code",
   "execution_count": 68,
   "id": "4a9d2351-dc24-4653-847b-086597423d9c",
   "metadata": {},
   "outputs": [],
   "source": [
    "import pickle\n",
    "pickle.dump(similarity,open('similarity.pkl','wb'))\n",
    "pickle.dump(df,open('df.pkl','wb'))"
   ]
  },
  {
   "cell_type": "code",
   "execution_count": null,
   "id": "c968ab1c-f3cd-4c2f-a4a5-5e922addd2ff",
   "metadata": {},
   "outputs": [],
   "source": []
  }
 ],
 "metadata": {
  "kernelspec": {
   "display_name": "Python 3 (ipykernel)",
   "language": "python",
   "name": "python3"
  },
  "language_info": {
   "codemirror_mode": {
    "name": "ipython",
    "version": 3
   },
   "file_extension": ".py",
   "mimetype": "text/x-python",
   "name": "python",
   "nbconvert_exporter": "python",
   "pygments_lexer": "ipython3",
   "version": "3.12.7"
  }
 },
 "nbformat": 4,
 "nbformat_minor": 5
}
